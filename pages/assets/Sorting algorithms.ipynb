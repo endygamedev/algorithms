{
 "cells": [
  {
   "cell_type": "markdown",
   "id": "14c9657a-e550-4393-875f-be864b3c3a2e",
   "metadata": {},
   "source": [
    "<h1 style=\"font-family: 'Computer Modern Serif', serif;\">Sorting algorithms</h1>"
   ]
  },
  {
   "cell_type": "markdown",
   "id": "877cf60a",
   "metadata": {},
   "source": [
    "<a href=\"./assets/Sorting%20algorithms.ipynb\" download><img src=\"https://img.shields.io/badge/Jupyter%20Notebook-Download-%23F37626?style=for-the-badge&logo=jupyter\"></a>"
   ]
  },
  {
   "cell_type": "markdown",
   "id": "7bfdfb4a",
   "metadata": {},
   "source": [
    "<h6 style=\"font-family: 'Computer Modern Serif', serif; font-size: large;\"><a href=\"https://en.wikipedia.org/wiki/Sorting_algorithm\" target=\"_blank\">Wiki: Sorting algorithms</a></h6>"
   ]
  },
  {
   "cell_type": "markdown",
   "id": "07743616",
   "metadata": {},
   "source": [
    "<link rel=\"stylesheet\" type=\"text/css\" href=\"https://cdn.jsdelivr.net/gh/aaaakshat/cm-web-fonts@latest/fonts.css\">"
   ]
  },
  {
   "cell_type": "markdown",
   "id": "dfe5d295",
   "metadata": {},
   "source": [
    "<div style=\"font-family: 'Computer Modern Serif', serif;\">\n",
    "<h2><a id=\"content\">Table of content</a></h2>\n",
    "<ol style=\"font-size: large;\">\n",
    "    <li><a href=\"#bubble_sort\">Bubble sort</a></li>\n",
    "    <li><a href=\"#selection_sort\">Selection sort</a></li>\n",
    "    <li><a href=\"#insertion_sort\">Insertion sort</a></li>\n",
    "    <li><a href=\"#quicksort\">Quicksort</a></li>\n",
    "    <li><a href=\"#merge_sort\">Merge sort</a></li>\n",
    "    <li><a href=\"#heapsort\">Heapsort</a></li>\n",
    "</ol>\n",
    "</div>"
   ]
  },
  {
   "cell_type": "markdown",
   "id": "f1461bd9-9b1b-4acc-afeb-fce6f3843311",
   "metadata": {},
   "source": [
    "<h2 style=\"font-family: 'Computer Modern Serif', serif;\">Modules</h2>"
   ]
  },
  {
   "cell_type": "code",
   "execution_count": 1,
   "id": "bfe31009-691f-4269-a1a0-81ec336bf72c",
   "metadata": {},
   "outputs": [],
   "source": [
    "import random\n",
    "import time\n",
    "import numpy as np\n",
    "from typing import List, Callable\n",
    "\n",
    "from IPython.display import Image\n",
    "\n",
    "import matplotlib.pyplot as plt\n",
    "\n",
    "plt.style.use([\"science\", \"grid\"])"
   ]
  },
  {
   "cell_type": "markdown",
   "id": "1a9d67fd-a2be-4af9-bb96-7c2fbb94d774",
   "metadata": {},
   "source": [
    "<h2 style=\"font-family: 'Computer Modern Serif', serif;\">Setup</h2>"
   ]
  },
  {
   "cell_type": "markdown",
   "id": "b86ca629-af7f-4323-98d1-c692f1d74785",
   "metadata": {},
   "source": [
    "<span style=\"font-family: 'Computer Modern Serif', serif; font-size: large;\"><b>Setup test data flow</b></span>"
   ]
  },
  {
   "cell_type": "code",
   "execution_count": 2,
   "id": "2afba3d3-cb88-4bdd-bff6-1666d3c0e54e",
   "metadata": {},
   "outputs": [],
   "source": [
    "def setup_data(n: int) -> List[int]:\n",
    "    return [random.randint(-10**9, 10**9) for _ in range(n)]"
   ]
  },
  {
   "cell_type": "markdown",
   "id": "78102dec-06e5-4424-a941-1a3227f8a220",
   "metadata": {},
   "source": [
    "<span style=\"font-family: 'Computer Modern Serif', serif; font-size: large;\"><b>Calculate execution time</b></span>"
   ]
  },
  {
   "cell_type": "code",
   "execution_count": 3,
   "id": "428d0847-84e7-4ccc-963c-d995dcee635b",
   "metadata": {},
   "outputs": [],
   "source": [
    "def timeit(n: int, func: Callable) -> float:\n",
    "    data = setup_data(n)\n",
    "    start = time.time()\n",
    "    func(data)\n",
    "    end = time.time()\n",
    "    return end - start"
   ]
  },
  {
   "cell_type": "code",
   "execution_count": 4,
   "id": "46dc3e6e-7bd0-404f-9a81-74380f864b22",
   "metadata": {},
   "outputs": [],
   "source": [
    "def draw_plot(*, start: int, stop: int, step: int, func: Callable, polydeg: int = 10) -> None:\n",
    "    x = [n for n in range((stop-start)//step + 1)]\n",
    "    y = [timeit(n, func) for n in range(start, stop, step)]\n",
    "    plt.title(func.__name__)\n",
    "    plt.rcParams[\"figure.figsize\"] = (7,6)\n",
    "    plt.rcParams.update({\"font.size\": 17})\n",
    "    plt.xlabel(\"Iteration\", fontsize=15)\n",
    "    plt.ylabel(\"Time\", fontsize=15)\n",
    "    z = np.polyfit(x, y, polydeg)\n",
    "    p = np.poly1d(z)\n",
    "    plt.plot(y, linewidth=2.0, label=\"Values\")\n",
    "    plt.plot(x, p(x), \"m--\", linewidth=1.5, label=\"Approximation\")\n",
    "    plt.legend(loc=\"upper left\", frameon=False)\n",
    "    plt.show()"
   ]
  },
  {
   "cell_type": "markdown",
   "id": "335bce18",
   "metadata": {},
   "source": [
    "<span style=\"font-family: 'Computer Modern Serif', serif; font-size: large;\"><b>Functions for testing</b></span>"
   ]
  },
  {
   "cell_type": "code",
   "execution_count": 5,
   "id": "0722b913",
   "metadata": {},
   "outputs": [],
   "source": [
    "def test_algo_inplace(array: List[int], *, func: Callable) -> None:\n",
    "    correct = sorted(array)\n",
    "    func(array)\n",
    "    assert array == correct, \"Wrong Answer (WA)\""
   ]
  },
  {
   "cell_type": "code",
   "execution_count": 6,
   "id": "dc4dab1d",
   "metadata": {},
   "outputs": [],
   "source": [
    "def test_algo_return(array: List[int], *, func: Callable) -> None:\n",
    "    assert func(array) == sorted(array), \"Wrong Answer (WA)\""
   ]
  },
  {
   "cell_type": "markdown",
   "id": "8346bb74-28d9-437b-a8bb-6e5f0b74265d",
   "metadata": {},
   "source": [
    "<h2 style=\"font-family: 'Computer Modern Serif', serif;\">Algorithms</h2>"
   ]
  },
  {
   "cell_type": "markdown",
   "id": "c7c78011-aded-44fe-a94a-88dc066b712c",
   "metadata": {},
   "source": [
    "<h3 style=\"font-family: 'Computer Modern Serif', serif;\"><a id=\"bubble_sort\" href=\"#content\">Bubble sort</a> (Сортировка пузырьком)</h3>"
   ]
  },
  {
   "cell_type": "markdown",
   "id": "4e1cffb9",
   "metadata": {},
   "source": [
    "<h4 style=\"font-family: 'Computer Modern Serif', serif; font-weight: bold;\">Описание</h4>"
   ]
  },
  {
   "cell_type": "markdown",
   "id": "e4390e60",
   "metadata": {},
   "source": [
    "<div style=\"text-align: justify; border: 1px solid #adb5bd; padding: 1rem; font-family: 'Computer Modern Serif', serif; font-size: large;\">\n",
    "Пусть задан список $\\{a_1, a_2, ..., a_n\\}$ длины $n$. Предположим, что среди первых $j$ его элементов наибольшим является последний из них. Сравним теперь значения $a_j$ и $a_{j+1}$. Если $a_{j+1} < a_{j}$, то поменяем значеня этих элементов, в результате чего получим, что наибольшим среди первых $j+1$ элементов является последний из них.\n",
    "</div>"
   ]
  },
  {
   "cell_type": "markdown",
   "id": "064ce344",
   "metadata": {},
   "source": [
    "<div style=\"text-align: justify; border: 1px solid #adb5bd; padding: 1rem; font-family: 'Computer Modern Serif', serif; font-size: large;\">\n",
    "В результате получим список, в котором на последнем месте будет стоять наибольший из элементов исходного списка, $a_n = \\max_{j=1}^na_j$. На следующем шаге, полагая последовательно $j = 1, 2, ..., n-2$, мы добьёмся того, что $a_{n-1} = \\max_{j=1}^{n-1}a_j$. На последнем шаге $-$ под номером $n-1$ $-$ нам останется сравнить между собой значения $a_1$ и $a_2$ и, если $a_1$ > $a_2$, поменять местами значения этих элеметов.\n",
    "</div>"
   ]
  },
  {
   "cell_type": "markdown",
   "id": "b8c3a331",
   "metadata": {},
   "source": [
    "$Time \\ Complexity: O(n^2)$\n",
    "\n",
    "$Space \\ Complexity: O(1)$"
   ]
  },
  {
   "cell_type": "markdown",
   "id": "0ad15e51",
   "metadata": {},
   "source": [
    "<h4 style=\"font-family: 'Computer Modern Serif', serif; font-weight: bold;\">Пример</h4>"
   ]
  },
  {
   "cell_type": "markdown",
   "id": "2510ca14",
   "metadata": {},
   "source": [
    "<div style=\"text-align: justify; font-family: 'Computer Modern Serif', serif; font-size: large;\">Исходный список:\n",
    "\n",
    "$$ [9, 1, 5, 10, 3, 8, 7, 2] $$\n",
    "</div>"
   ]
  },
  {
   "cell_type": "markdown",
   "id": "0850ffb4",
   "metadata": {},
   "source": [
    "<div style=\"text-align: justify; font-family: 'Computer Modern Serif', serif; font-size: large;\">\n",
    "\n",
    "$i = 0$ $\\leftarrow$ внешний цикл:\n",
    "\n",
    "$j=0:$\n",
    "$$1 < 9 \\longrightarrow true$$\n",
    "$$[\\fbox{9}, 1, 5, 10, 3, 8, 7, 2]$$\n",
    "$j=1:$\n",
    "$$5 < 9 \\longrightarrow true$$\n",
    "$$[1, \\fbox{9}, 5, 10, 3, 8, 7, 2]$$\n",
    "$j=2:$\n",
    "$$10 < 9 \\longrightarrow false$$\n",
    "$$[1, 5, \\fbox{9}, 10, 3, 8, 7, 2]$$\n",
    "$j=3:$\n",
    "$$3 < 10 \\longrightarrow true$$\n",
    "$$[1, 5, 9, \\fbox{10}, 3, 8, 7, 2]$$\n",
    "$j=4:$\n",
    "$$8 < 10 \\longrightarrow true$$\n",
    "$$[1, 5, 9, 3, \\fbox{10}, 8, 7, 2]$$\n",
    "$j=5:$\n",
    "$$7 < 10 \\longrightarrow true$$\n",
    "$$[1, 5, 9, 3, 8, \\fbox{10}, 7, 2]$$\n",
    "$j=6:$\n",
    "$$2 < 10 \\longrightarrow true$$\n",
    "$$[1, 5, 9, 3, 8, 7, \\fbox{10}, 2]$$\n",
    "\n",
    "Результат после 1 итерации:\n",
    "$$[1, 5, 9, 3, 8, 7, 2, \\underline{10}]$$\n",
    "</div>"
   ]
  },
  {
   "cell_type": "markdown",
   "id": "8c53d8e7",
   "metadata": {},
   "source": [
    "<hr width=\"50%\">"
   ]
  },
  {
   "cell_type": "markdown",
   "id": "f8f19503",
   "metadata": {},
   "source": [
    "<div style=\"text-align: justify; font-family: 'Computer Modern Serif', serif; font-size: large;\">\n",
    "\n",
    "$i = 1$ $\\leftarrow$ внешний цикл:\n",
    "\n",
    "$j=0:$\n",
    "$$5 < 1 \\longrightarrow false$$\n",
    "$$[\\fbox{1}, 5, 9, 3, 8, 7, 2, \\underline{10}]$$\n",
    "$j=1:$\n",
    "$$9 < 5 \\longrightarrow false$$\n",
    "$$[1, \\fbox{5}, 9, 3, 8, 7, 2, \\underline{10}]$$\n",
    "$j=2:$\n",
    "$$3 < 9 \\longrightarrow true$$\n",
    "$$[1, 5, \\fbox{9}, 3, 8, 7, 2, \\underline{10}]$$\n",
    "$j=3:$\n",
    "$$8 < 9 \\longrightarrow true$$\n",
    "$$[1, 5, 3, \\fbox{9}, 8, 7, 2, \\underline{10}]$$\n",
    "$j=4:$\n",
    "$$7 < 9 \\longrightarrow true$$\n",
    "$$[1, 5, 3, 8, \\fbox{9}, 7, 2, \\underline{10}]$$\n",
    "$j=5:$\n",
    "$$2 < 9 \\longrightarrow true$$\n",
    "$$[1, 5, 3, 8, 7, \\fbox{9}, 2, \\underline{10}]$$\n",
    "\n",
    "Результат после 2 итерации:\n",
    "$$[1, 5, 3, 8, 7, 2, \\underline{9}, \\underline{10}]$$\n",
    "    \n",
    "</div>"
   ]
  },
  {
   "cell_type": "markdown",
   "id": "00d205ce",
   "metadata": {},
   "source": [
    "<div style=\"text-align: justify; font-family: 'Computer Modern Serif', serif; font-size: large;\">И так далее\n",
    "$$\\dots$$\n",
    "</div>"
   ]
  },
  {
   "cell_type": "markdown",
   "id": "aff3c8e3",
   "metadata": {},
   "source": [
    "<div style=\"text-align: justify; font-family: 'Computer Modern Serif', serif; font-size: large;\">\n",
    "Промежуточные результаты внешнего цикла:<br>\n",
    "\n",
    "$i = 0:$\n",
    "$$[1, 5, 9, 3, 8, 7, 2, \\underline{10}]$$\n",
    "\n",
    "$i = 1:$\n",
    "$$[1, 5, 3, 8, 7, 2, \\underline{9}, \\underline{10}]$$\n",
    "\n",
    "$i = 2:$\n",
    "$$[1, 3, 5, 7, 2, \\underline{8}, \\underline{9}, \\underline{10}]$$\n",
    "\n",
    "$i = 3:$\n",
    "$$[1, 3, 5, 2, \\underline{7}, \\underline{8}, \\underline{9}, \\underline{10}]$$\n",
    "\n",
    "$i = 4:$\n",
    "$$[1, 3, 2, \\underline{5}, \\underline{7}, \\underline{8}, \\underline{9}, \\underline{10}]$$\n",
    "\n",
    "$i = 5:$\n",
    "$$[1, 2, \\underline{3}, \\underline{5}, \\underline{7}, \\underline{8}, \\underline{9}, \\underline{10}]$$\n",
    "\n",
    "$i = 6:$\n",
    "$$[1, \\underline{2}, \\underline{3}, \\underline{5}, \\underline{7}, \\underline{8}, \\underline{9}, \\underline{10}]$$\n",
    "</div>"
   ]
  },
  {
   "cell_type": "markdown",
   "id": "14b12bbd",
   "metadata": {},
   "source": [
    "<h4 style=\"font-family: 'Computer Modern Serif', serif; font-weight: bold;\">Реализация</h4>"
   ]
  },
  {
   "cell_type": "code",
   "execution_count": 7,
   "id": "4eed9f4d-70b5-4bdb-aceb-486c23ceba1e",
   "metadata": {},
   "outputs": [],
   "source": [
    "def bubble_sort(array: List[int]) -> None:\n",
    "    n = len(array)\n",
    "    for i in range(n-1):\n",
    "        for j in range(n-i-1):\n",
    "            if array[j+1] < array[j]:\n",
    "                array[j], array[j+1] = array[j+1], array[j]"
   ]
  },
  {
   "cell_type": "markdown",
   "id": "222fa60b",
   "metadata": {},
   "source": [
    "<h4 style=\"font-family: 'Computer Modern Serif', serif; font-weight: bold;\">Тест</h4>"
   ]
  },
  {
   "cell_type": "code",
   "execution_count": 8,
   "id": "48b4704b",
   "metadata": {},
   "outputs": [],
   "source": [
    "test_algo_inplace([9, 1, 5, 10, 3, 8, 7, 2], func=bubble_sort)"
   ]
  },
  {
   "cell_type": "markdown",
   "id": "f45a57d5",
   "metadata": {},
   "source": [
    "<h4 style=\"font-family: 'Computer Modern Serif', serif; font-weight: bold;\">График асимптотики</h4>"
   ]
  },
  {
   "cell_type": "code",
   "execution_count": 28,
   "id": "9a233a05-12da-4456-b1ac-fa28dc042ffc",
   "metadata": {},
   "outputs": [
    {
     "data": {
      "image/png": "[encoded data removed]",
      "text/plain": [
       "<Figure size 504x432 with 1 Axes>"
      ]
     },
     "metadata": {
      "needs_background": "light"
     },
     "output_type": "display_data"
    }
   ],
   "source": [
    "draw_plot(start=10, stop=1300, step=50, func=bubble_sort)"
   ]
  },
  {
   "cell_type": "markdown",
   "id": "f72da41e",
   "metadata": {},
   "source": [
    "<h3 style=\"font-family: 'Computer Modern Serif', serif;\"><a id=\"selection_sort\" href=\"#content\">Selection sort</a> (Сортировка методом простого выбора)</h3>"
   ]
  },
  {
   "cell_type": "markdown",
   "id": "2e8c9774",
   "metadata": {},
   "source": [
    "<h4 style=\"font-family: 'Computer Modern Serif', serif; font-weight: bold;\">Описание</h4>"
   ]
  },
  {
   "cell_type": "markdown",
   "id": "990b1c2f",
   "metadata": {},
   "source": [
    "<div style=\"text-align: justify; border: 1px solid #adb5bd; padding: 1rem; font-family: 'Computer Modern Serif', serif; font-size: large;\">\n",
    "Самый естественный алгоритм сортировки. На пером шаге мы просматриваем весь список длины $n$, находим его наибольший элемент и помещаем его в конец списка. На следующем шаге мы находим наибольший элемент из всех оставшихся элементов (исключая последний) и помещаем его на предпоследнее место. И так далее, пока на последнем шаге нам не придётся определить, какой из двух оставшихся (первых двух) элементов больше другого.\n",
    "</div>"
   ]
  },
  {
   "cell_type": "markdown",
   "id": "15343f02",
   "metadata": {},
   "source": [
    "$Time \\ Complexity: O(n^2)$\n",
    "\n",
    "$Space \\ Complexity: O(1)$"
   ]
  },
  {
   "cell_type": "markdown",
   "id": "23c84f4d",
   "metadata": {},
   "source": [
    "<h4 style=\"font-family: 'Computer Modern Serif', serif; font-weight: bold;\">Пример</h4>"
   ]
  },
  {
   "cell_type": "markdown",
   "id": "6a379aaf",
   "metadata": {},
   "source": [
    "<div style=\"text-align: justify; font-family: 'Computer Modern Serif', serif; font-size: large;\">Исходный список:\n",
    "\n",
    "$$ [9, 1, 5, 10, 3, 8, 7, 2] $$\n",
    "</div>"
   ]
  },
  {
   "cell_type": "markdown",
   "id": "eff52d56",
   "metadata": {},
   "source": [
    "<div style=\"text-align: justify; font-family: 'Computer Modern Serif', serif; font-size: large;\">\n",
    "$i = 0:$\n",
    "$$ [9, 1, 5, \\fbox{10}, 3, 8, 7, 2] $$\n",
    "$$\\downarrow$$\n",
    "$$ [9, 1, 5, 2, 3, 8, 7, \\underline{10}] $$\n",
    "\n",
    "$i = 1:$\n",
    "$$ [\\fbox{9}, 1, 5, 2, 3, 8, 7, \\underline{10}] $$\n",
    "$$\\downarrow$$\n",
    "$$ [7, 1, 5, 2, 3, 8, \\underline{9}, \\underline{10}] $$\n",
    "\n",
    "$i = 2:$\n",
    "$$ [7, 1, 5, 2, 3, \\fbox{8}, \\underline{9}, \\underline{10}] $$\n",
    "$$\\downarrow$$\n",
    "$$ [7, 1, 5, 2, 3, \\underline{8}, \\underline{9}, \\underline{10}] $$\n",
    "\n",
    "$i = 3:$\n",
    "$$ [\\fbox{7}, 1, 5, 2, 3, \\underline{8}, \\underline{9}, \\underline{10}] $$\n",
    "$$\\downarrow$$\n",
    "$$ [3, 1, 5, 2, \\underline{7}, \\underline{8}, \\underline{9}, \\underline{10}] $$\n",
    "\n",
    "$i = 4:$\n",
    "$$ [3, 1, \\fbox{5}, 2, \\underline{7}, \\underline{8}, \\underline{9}, \\underline{10}] $$\n",
    "$$\\downarrow$$\n",
    "$$ [3, 1, 2, \\underline{5}, \\underline{7}, \\underline{8}, \\underline{9}, \\underline{10}] $$\n",
    "\n",
    "$i = 5:$\n",
    "$$ [\\fbox{3}, 1, 2, \\underline{5}, \\underline{7}, \\underline{8}, \\underline{9}, \\underline{10}] $$\n",
    "$$\\downarrow$$\n",
    "$$ [2, 1, \\underline{3}, \\underline{5}, \\underline{7}, \\underline{8}, \\underline{9}, \\underline{10}] $$\n",
    "\n",
    "$i = 6:$\n",
    "$$ [\\fbox{2}, 1, \\underline{3}, \\underline{5}, \\underline{7}, \\underline{8}, \\underline{9}, \\underline{10}] $$\n",
    "$$\\downarrow$$\n",
    "$$ [1, \\underline{2}, \\underline{3}, \\underline{5}, \\underline{7}, \\underline{8}, \\underline{9}, \\underline{10}] $$\n",
    "</div>"
   ]
  },
  {
   "cell_type": "markdown",
   "id": "b95d2864",
   "metadata": {},
   "source": [
    "<h4 style=\"font-family: 'Computer Modern Serif', serif; font-weight: bold;\">Реализация</h4>"
   ]
  },
  {
   "cell_type": "code",
   "execution_count": 10,
   "id": "27b68f50",
   "metadata": {},
   "outputs": [],
   "source": [
    "def selection_sort(array: List[int]) -> None:\n",
    "    n = len(array)\n",
    "    for i in range(n-1, 0, -1):\n",
    "        pos = 0\n",
    "        for j in range(1, i+1):\n",
    "            if array[j] > array[pos]:\n",
    "                pos = j\n",
    "        array[i], array[pos] = array[pos], array[i]"
   ]
  },
  {
   "cell_type": "markdown",
   "id": "965f23b7",
   "metadata": {},
   "source": [
    "<h4 style=\"font-family: 'Computer Modern Serif', serif; font-weight: bold;\">Тест</h4>"
   ]
  },
  {
   "cell_type": "code",
   "execution_count": 11,
   "id": "bc0bf2ec",
   "metadata": {},
   "outputs": [],
   "source": [
    "test_algo_inplace([9, 1, 5, 10, 3, 8, 7, 2], func=selection_sort)"
   ]
  },
  {
   "cell_type": "markdown",
   "id": "a2a24aff",
   "metadata": {},
   "source": [
    "<h4 style=\"font-family: 'Computer Modern Serif', serif; font-weight: bold;\">График асимптотики</h4>"
   ]
  },
  {
   "cell_type": "code",
   "execution_count": 12,
   "id": "0fd04c2b",
   "metadata": {
    "scrolled": false
   },
   "outputs": [
    {
     "data": {
      "image/png": "[encoded data removed]",
      "text/plain": [
       "<Figure size 504x432 with 1 Axes>"
      ]
     },
     "metadata": {
      "needs_background": "light"
     },
     "output_type": "display_data"
    }
   ],
   "source": [
    "draw_plot(start=10, stop=1300, step=50, func=selection_sort)"
   ]
  },
  {
   "cell_type": "markdown",
   "id": "876e9d44",
   "metadata": {},
   "source": [
    "<h3 style=\"font-family: 'Computer Modern Serif', serif;\"><a id=\"insertion_sort\" href=\"#content\">Insertion sort</a> (Сортировка вставками)</h3>"
   ]
  },
  {
   "cell_type": "markdown",
   "id": "7944143e",
   "metadata": {},
   "source": [
    "<h4 style=\"font-family: 'Computer Modern Serif', serif; font-weight: bold;\">Описание</h4>"
   ]
  },
  {
   "cell_type": "markdown",
   "id": "c0859d24",
   "metadata": {},
   "source": [
    "<div style=\"text-align: justify; border: 1px solid #adb5bd; padding: 1rem; font-family: 'Computer Modern Serif', serif; font-size: large;\">\n",
    "На каждом шаге мы добиваемся того, что первые $j$ элементов списка оказываются расположенными в порядке возрастания. Тогда, последовательно сравнивая элемент $a_{j+1}$ с элементами $a_{j}, a_{j-1}, ...$, как только мы обнаруживаем, что $a_{j+1} > a_{i}$, мы вставляем значение $a_{j+1}$ на $i$-е место в нашем списке.\n",
    "</div>"
   ]
  },
  {
   "cell_type": "markdown",
   "id": "9633922e",
   "metadata": {},
   "source": [
    "<div style=\"text-align: justify; border: 1px solid #adb5bd; padding: 1rem; font-family: 'Computer Modern Serif', serif; font-size: large;\">\n",
    "На первом шаге, сравнив $a_1$ с $a_2$ и, если оказалось, что $a_1 > a_2$, поменяв их местами, мы получим, что элементы $a_1$, $a_2$ расположены по возрастанию. На втором $-$ сравниваем $a_3$ сначала с $a_2$, и если оказалось, что $a_3 < a_2$, то сравниваем $a_3$ с $a_1$, в результате три первых элемента списка окажутся расположены по возрастанию. На последнем шаге, когда первые $n-1$ элементов уже расположены в порядке возрастания, мы вставляем на нужное место последний элемент списка.\n",
    "</div>"
   ]
  },
  {
   "cell_type": "markdown",
   "id": "0a0cb1d2",
   "metadata": {},
   "source": [
    "$Time \\ Complexity: O(n^2)$\n",
    "\n",
    "$Space \\ Complexity: O(1)$"
   ]
  },
  {
   "cell_type": "markdown",
   "id": "c9983030",
   "metadata": {},
   "source": [
    "<h4 style=\"font-family: 'Computer Modern Serif', serif; font-weight: bold;\">Пример</h4>"
   ]
  },
  {
   "cell_type": "markdown",
   "id": "6fddedac",
   "metadata": {},
   "source": [
    "<div style=\"text-align: justify; font-family: 'Computer Modern Serif', serif; font-size: large;\">Исходный список:\n",
    "\n",
    "$$ [9, 1, 5, 10, 3, 8, 7, 2] $$\n",
    "</div>"
   ]
  },
  {
   "cell_type": "markdown",
   "id": "ed93e030",
   "metadata": {},
   "source": [
    "<div style=\"text-align: justify; font-family: 'Computer Modern Serif', serif; font-size: large;\">\n",
    "$i = 0:$\n",
    "$$ [\\fbox{9}, \\underline{1}, 5, 10, 3, 8, 7, 2] $$\n",
    "$$\\downarrow$$\n",
    "$$ [\\fbox{1, 9}, 5, 2, 3, 8, 7, 10] $$\n",
    "\n",
    "$i = 1:$\n",
    "$$ [\\fbox{1, 9}, \\underline{5}, 2, 3, 8, 7, 10] $$\n",
    "$$\\downarrow$$\n",
    "$$ [\\fbox{1, 5, 9}, 2, 3, 8, 7, 10] $$\n",
    "\n",
    "$i = 2:$\n",
    "$$ [\\fbox{1, 5, 9}, \\underline{2}, 3, 8, 7, 10] $$\n",
    "$$\\downarrow$$\n",
    "$$ [\\fbox{1, 2, 5, 9}, 3, 8, 7, 10] $$\n",
    "\n",
    "$i = 3:$\n",
    "$$ [\\fbox{1, 2, 5, 9}, \\underline{3}, 8, 7, 10] $$\n",
    "$$\\downarrow$$\n",
    "$$ [\\fbox{1, 2, 3, 5, 9}, 8, 7, 10] $$\n",
    "\n",
    "$i = 4:$\n",
    "$$ [\\fbox{1, 2, 3, 5, 9}, \\underline{8}, 7, 10] $$\n",
    "$$\\downarrow$$\n",
    "$$ [\\fbox{1, 2, 3, 5, 8, 9}, 7, 10] $$\n",
    "\n",
    "$i = 5:$\n",
    "$$ [\\fbox{1, 2, 3, 5, 8, 9}, \\underline{7}, 10] $$\n",
    "$$\\downarrow$$\n",
    "$$ [\\fbox{1, 2, 3, 5, 7, 8, 9}, 10] $$\n",
    "\n",
    "$i = 6:$\n",
    "$$ [\\fbox{1, 2, 3, 5, 7, 8, 9}, \\underline{10}] $$\n",
    "$$\\downarrow$$\n",
    "$$ [\\fbox{1, 2, 3, 5, 7, 8, 9, 10}] $$\n",
    "</div>"
   ]
  },
  {
   "cell_type": "markdown",
   "id": "47f5aa5f",
   "metadata": {},
   "source": [
    "<h4 style=\"font-family: 'Computer Modern Serif', serif; font-weight: bold;\">Реализация</h4>"
   ]
  },
  {
   "cell_type": "code",
   "execution_count": 13,
   "id": "26625d30",
   "metadata": {},
   "outputs": [],
   "source": [
    "def insertion_sort(array: List[int]) -> None:\n",
    "    n = len(array)\n",
    "    for i in range(1, n):\n",
    "        pivot = array[i]\n",
    "        j = i - 1\n",
    "        while j >= 0 and array[j] > pivot:\n",
    "            array[j+1] = array[j]\n",
    "            j -= 1\n",
    "        array[j+1] = pivot"
   ]
  },
  {
   "cell_type": "markdown",
   "id": "34088cbf",
   "metadata": {},
   "source": [
    "<h4 style=\"font-family: 'Computer Modern Serif', serif; font-weight: bold;\">Тест</h4>"
   ]
  },
  {
   "cell_type": "code",
   "execution_count": 14,
   "id": "86d11bca",
   "metadata": {},
   "outputs": [],
   "source": [
    "test_algo_inplace([9, 1, 5, 10, 3, 8, 7, 2], func=insertion_sort)"
   ]
  },
  {
   "cell_type": "markdown",
   "id": "dfc4da77",
   "metadata": {},
   "source": [
    "<h4 style=\"font-family: 'Computer Modern Serif', serif; font-weight: bold;\">График асимптотики</h4>"
   ]
  },
  {
   "cell_type": "code",
   "execution_count": 27,
   "id": "e3f1046a",
   "metadata": {
    "scrolled": false
   },
   "outputs": [
    {
     "data": {
      "image/png": "[encoded data removed]",
      "text/plain": [
       "<Figure size 504x432 with 1 Axes>"
      ]
     },
     "metadata": {
      "needs_background": "light"
     },
     "output_type": "display_data"
    }
   ],
   "source": [
    "draw_plot(start=10, stop=1300, step=50, func=insertion_sort)"
   ]
  },
  {
   "cell_type": "markdown",
   "id": "cde2956e",
   "metadata": {},
   "source": [
    "<h3 style=\"font-family: 'Computer Modern Serif', serif;\"><a id=\"quicksort\" href=\"#content\">Quicksort</a> (Быстрая сортировка)</h3>"
   ]
  },
  {
   "cell_type": "markdown",
   "id": "6d3c6ac5",
   "metadata": {},
   "source": [
    "<h4 style=\"font-family: 'Computer Modern Serif', serif; font-weight: bold;\">Описание</h4>"
   ]
  },
  {
   "cell_type": "markdown",
   "id": "6e5fc5ea",
   "metadata": {},
   "source": [
    "<div style=\"text-align: justify; border: 1px solid #adb5bd; padding: 1rem; font-family: 'Computer Modern Serif', serif; font-size: large;\">\n",
    "Пусть задан список $\\{a_1, a_2, ..., a_n\\}$ длины $n$. На первом шаге мы выбираем случайную позицию $k$, далее создаём два списка:<br>\n",
    "1) $[g_1, g_2, \\dots] \\hspace{0.2cm} | \\hspace{0.2cm} \\forall g_j > a_k, j = \\{1, \\dots, m\\}$<br>\n",
    "2) $[l_1, l_2, \\dots] \\hspace{0.35cm} | \\hspace{0.2cm} \\forall l_r \\leq a_k, r = \\{1, \\dots, p\\}$<br>\n",
    "</div>"
   ]
  },
  {
   "cell_type": "markdown",
   "id": "f4c7da6a",
   "metadata": {},
   "source": [
    "<div style=\"text-align: justify; border: 1px solid #adb5bd; padding: 1rem; font-family: 'Computer Modern Serif', serif; font-size: large;\">\n",
    "Применяем к созданным спискам быстрый алгоритм сортировки до тех пор пока количество элементов в списках $> 1$. Затем конкатенируем списки следующим образом:\n",
    "\n",
    "$$quicksort([l_1, l_2, \\dots]) \\sim [a_k] \\sim quicksort([g_1, g_2, \\dots])$$\n",
    "</div>"
   ]
  },
  {
   "cell_type": "markdown",
   "id": "b52ea75d",
   "metadata": {},
   "source": [
    "$Time \\ Complexity: O(n\\log(n))$\n",
    "\n",
    "$Space \\ Complexity: O(\\log(n))$"
   ]
  },
  {
   "cell_type": "markdown",
   "id": "7d3c04f7",
   "metadata": {},
   "source": [
    "<h4 style=\"font-family: 'Computer Modern Serif', serif; font-weight: bold;\">Пример</h4>"
   ]
  },
  {
   "cell_type": "markdown",
   "id": "36dc3bf7",
   "metadata": {},
   "source": [
    "<img src=\"./assets/quicksort.png\">"
   ]
  },
  {
   "cell_type": "markdown",
   "id": "80939bf2",
   "metadata": {},
   "source": [
    "<h4 style=\"font-family: 'Computer Modern Serif', serif; font-weight: bold;\">Реализация</h4>"
   ]
  },
  {
   "cell_type": "code",
   "execution_count": 16,
   "id": "12a14d42",
   "metadata": {},
   "outputs": [],
   "source": [
    "def quicksort(array: List[int]) -> List[int]:\n",
    "    if len(array) < 2:\n",
    "        return array\n",
    "    n = len(array)\n",
    "    pivot = random.choice(range(n))\n",
    "    greater, lower = [], []\n",
    "    for i in range(n):\n",
    "        if pivot == i:\n",
    "            continue\n",
    "        if array[i] > array[pivot]:\n",
    "            greater.append(array[i])\n",
    "        else:\n",
    "            lower.append(array[i])\n",
    "    return quicksort(lower) + [array[pivot]] + quicksort(greater)"
   ]
  },
  {
   "cell_type": "markdown",
   "id": "6ed747a0",
   "metadata": {},
   "source": [
    "<h4 style=\"font-family: 'Computer Modern Serif', serif; font-weight: bold;\">Тест</h4>"
   ]
  },
  {
   "cell_type": "code",
   "execution_count": 17,
   "id": "e4b447b6",
   "metadata": {},
   "outputs": [],
   "source": [
    "test_algo_return([9, 1, 5, 10, 3, 8, 7, 2], func=quicksort)"
   ]
  },
  {
   "cell_type": "markdown",
   "id": "739ff621",
   "metadata": {},
   "source": [
    "<h4 style=\"font-family: 'Computer Modern Serif', serif; font-weight: bold;\">График асимптотики</h4>"
   ]
  },
  {
   "cell_type": "code",
   "execution_count": 26,
   "id": "22d2288d",
   "metadata": {
    "scrolled": false
   },
   "outputs": [
    {
     "data": {
      "image/png": "[encoded data removed]",
      "text/plain": [
       "<Figure size 504x432 with 1 Axes>"
      ]
     },
     "metadata": {
      "needs_background": "light"
     },
     "output_type": "display_data"
    }
   ],
   "source": [
    "draw_plot(start=10, stop=10000, step=200, func=quicksort)"
   ]
  },
  {
   "cell_type": "markdown",
   "id": "ebe04392",
   "metadata": {},
   "source": [
    "<h3 style=\"font-family: 'Computer Modern Serif', serif;\"><a id=\"merge_sort\" href=\"#content\">Merge sort</a> (Сортировка слиянием)</h3>"
   ]
  },
  {
   "cell_type": "markdown",
   "id": "83643686",
   "metadata": {},
   "source": [
    "<h4 style=\"font-family: 'Computer Modern Serif', serif; font-weight: bold;\">Описание</h4>"
   ]
  },
  {
   "cell_type": "markdown",
   "id": "eef13134",
   "metadata": {},
   "source": [
    "<div style=\"text-align: justify; border: 1px solid #adb5bd; padding: 1rem; font-family: 'Computer Modern Serif', serif; font-size: large;\">\n",
    "Опишем прежде всего алгоритм слияния двух упорядоченных списков. Предположим, что списки $[a_1, a_2, \\dots, a_n]$ и $[b_1, b_2, \\dots, b_m]$ упорядочены по возрастанию. Сравним между собой элементы $a_1$ и $b_1$, выберем из них наименьший, удалим из соотвествующего списка и поставим первым в новый список. Сравним теперь первые элементы полученных списков, выберем из них наименьший и поставим вторым в новый список. И так далее, пока один из данных вначале списков не окажется пустым. Оставшуюся часть второго списка вставим в конец строящегося списка.\n",
    "</div>"
   ]
  },
  {
   "cell_type": "markdown",
   "id": "21a85285",
   "metadata": {},
   "source": [
    "<div style=\"text-align: justify; border: 1px solid #adb5bd; padding: 1rem; font-family: 'Computer Modern Serif', serif; font-size: large;\">\n",
    "Теперь перейдём к описанию алгоритма сортировки. Для начала разделим исходный список на два списка, а затем каждый из них разделим ещё на два и так далее, пока количество элементов в списках $>1$. Далее упорядочим каждый из полученных списков и проведём слияние списков из первой пары и списков второй пары.\n",
    "</div>"
   ]
  },
  {
   "cell_type": "markdown",
   "id": "f17a236d",
   "metadata": {},
   "source": [
    "$Time \\ Complexity: O(n\\log(n))$\n",
    "\n",
    "$Space \\ Complexity: O(n)$"
   ]
  },
  {
   "cell_type": "markdown",
   "id": "e99d2c76",
   "metadata": {},
   "source": [
    "<h4 style=\"font-family: 'Computer Modern Serif', serif; font-weight: bold;\">Пример</h4>"
   ]
  },
  {
   "cell_type": "markdown",
   "id": "54c36d2b",
   "metadata": {},
   "source": [
    "<img src=\"./assets/merge_sort.png\">"
   ]
  },
  {
   "cell_type": "markdown",
   "id": "6cf1f39e",
   "metadata": {},
   "source": [
    "<h4 style=\"font-family: 'Computer Modern Serif', serif; font-weight: bold;\">Реализация</h4>"
   ]
  },
  {
   "cell_type": "code",
   "execution_count": 19,
   "id": "8d5bfea4",
   "metadata": {},
   "outputs": [],
   "source": [
    "def merge_sort(array: List[int]) -> None:\n",
    "    n = len(array)\n",
    "    if n > 1:\n",
    "        mid = n//2\n",
    "        left = array[:mid]\n",
    "        right = array[mid:]\n",
    "        \n",
    "        merge_sort(left)\n",
    "        merge_sort(right)\n",
    "        \n",
    "        i = j = k = 0\n",
    "        \n",
    "        while i < len(left) and j < len(right):\n",
    "            if left[i] < right[j]:\n",
    "                array[k] = left[i]\n",
    "                i += 1\n",
    "            else:\n",
    "                array[k] = right[j]\n",
    "                j += 1\n",
    "            k += 1\n",
    "        \n",
    "        while i < len(left):\n",
    "            array[k] = left[i]\n",
    "            i += 1\n",
    "            k += 1\n",
    "        \n",
    "        while j < len(right):\n",
    "            array[k] = right[j]\n",
    "            j += 1\n",
    "            k += 1"
   ]
  },
  {
   "cell_type": "markdown",
   "id": "39ed6ae4",
   "metadata": {},
   "source": [
    "<h4 style=\"font-family: 'Computer Modern Serif', serif; font-weight: bold;\">Тест</h4>"
   ]
  },
  {
   "cell_type": "code",
   "execution_count": 20,
   "id": "8af3184d",
   "metadata": {},
   "outputs": [],
   "source": [
    "test_algo_inplace([9, 1, 5, 10, 3, 8, 7, 2], func=merge_sort)"
   ]
  },
  {
   "cell_type": "markdown",
   "id": "f1e94d6a",
   "metadata": {},
   "source": [
    "<h4 style=\"font-family: 'Computer Modern Serif', serif; font-weight: bold;\">График асимптотики</h4>"
   ]
  },
  {
   "cell_type": "code",
   "execution_count": 21,
   "id": "4a04deca",
   "metadata": {
    "scrolled": false
   },
   "outputs": [
    {
     "data": {
      "image/png": "[encoded data removed]",
      "text/plain": [
       "<Figure size 504x432 with 1 Axes>"
      ]
     },
     "metadata": {
      "needs_background": "light"
     },
     "output_type": "display_data"
    }
   ],
   "source": [
    "draw_plot(start=10, stop=10000, step=200, func=merge_sort)"
   ]
  },
  {
   "cell_type": "markdown",
   "id": "4b991622",
   "metadata": {},
   "source": [
    "<h3 style=\"font-family: 'Computer Modern Serif', serif;\"><a id=\"heapsort\" href=\"#content\">Heapsort</a> (Пирамидальная сортировка, Сортировка при помощи двоичных куч)</h3>"
   ]
  },
  {
   "cell_type": "markdown",
   "id": "13856443",
   "metadata": {},
   "source": [
    "<h4 style=\"font-family: 'Computer Modern Serif', serif; font-weight: bold;\">Описание</h4>"
   ]
  },
  {
   "cell_type": "markdown",
   "id": "a97cba42",
   "metadata": {},
   "source": [
    "<div style=\"text-align: justify; border: 1px solid #adb5bd; padding: 1rem; font-family: 'Computer Modern Serif', serif; font-size: large;\">\n",
    "Пусть задан список длины $n$. Прежде всего построим из него двоичную кучу. Далее будем действовать следующим образом. Наибольшим элементом в списке, являющимся двоичной кучей, является первый его элемент. Удалим его и перестроим образовавшийся список в двоичную кучу. Продолжая действовать аналогичным образом, мы и получим упорядоченный список, состоящий из элементов двоичной кучи.\n",
    "</div>"
   ]
  },
  {
   "cell_type": "markdown",
   "id": "d640648e",
   "metadata": {},
   "source": [
    "<h4 style=\"font-family: 'Computer Modern Serif', serif;\">Двоичная куча</h4>"
   ]
  },
  {
   "cell_type": "markdown",
   "id": "fc744918",
   "metadata": {},
   "source": [
    "<div style=\"text-align: justify; border: 1px solid #adb5bd; padding: 1rem; font-family: 'Computer Modern Serif', serif; font-size: large;\">\n",
    "Двоичная куча, пирамида $-$ такое двоичное дерево, для которого выполнены три условия:\n",
    "<ol>\n",
    "    <li>Значение в любой вершине не меньше, чем значения её потомков.</li>\n",
    "    <li>Глубина всех листьев (расстояние до корня) отличается не более чем на 1 слой.</li>\n",
    "    <li>Последний слой заполняется слева направо без «дырок».</li>\n",
    "</ol>\n",
    "Удобная структура данных для сортирующего дерева $-$ массив $A$, у которого корневой элемент $-$ $a_{0}$, а потомки элемента $a_{i}$ $-$ $a_{2i+1}$ и $a_{2i+2}$.\n",
    "При таком способе хранения условия 2 и 3 выполнены автоматически. \n",
    "</div>"
   ]
  },
  {
   "cell_type": "markdown",
   "id": "8bfdaff8",
   "metadata": {},
   "source": [
    "<img src=\"./assets/binary_tree.png\">"
   ]
  },
  {
   "cell_type": "markdown",
   "id": "c15ec9e9",
   "metadata": {},
   "source": [
    "<img src=\"./assets/binary_heap.png\">"
   ]
  },
  {
   "cell_type": "markdown",
   "id": "1fca2847",
   "metadata": {},
   "source": [
    "<h4 style=\"font-family: 'Computer Modern Serif', serif;\">Алгоритм построения двоичной кучи</h4>"
   ]
  },
  {
   "cell_type": "markdown",
   "id": "712b8ac8",
   "metadata": {},
   "source": [
    "<div style=\"text-align: justify; border: 1px solid #adb5bd; padding: 1rem; font-family: 'Computer Modern Serif', serif; font-size: large;\">\n",
    "Предположим, что имеется список из $n$ элементов, из которого требуется построить список, являющийся двоичной кучей. Расположим эти элементы в вершинах заполненного двоичного дерева. Теперь рассмотрим тройки элементов с номерами $i$, $2i$, $2i+1$, где вершина с номером $i$ лежит на предпоследнем уровне этого дерева. Если $a_i < \\max\\{a_{2i}, a_{2i+1}\\}$, то поменяем местами соответсвующие значения так, чтобы значения всех элементов, лежащих в корнях деревьев высоты 1, были бы не меньше значений их потомков. Теперь перейдём на один уровень выше. На каждом шаге этого алгоритма предполагается, что являются двоичными кучами подпоследовательности данной последовательности, заданные двоичными поддеревьями исходного дерева с корнями во всех вершинах уровня $m$.\n",
    "</div>"
   ]
  },
  {
   "cell_type": "markdown",
   "id": "ad2de787",
   "metadata": {},
   "source": [
    "$Time \\ Complexity: O(n\\log(n))$\n",
    "\n",
    "$Space \\ Complexity: O(1)$"
   ]
  },
  {
   "cell_type": "markdown",
   "id": "21aca4bd",
   "metadata": {},
   "source": [
    "<h4 style=\"font-family: 'Computer Modern Serif', serif; font-weight: bold;\">Пример</h4>"
   ]
  },
  {
   "cell_type": "markdown",
   "id": "a96b8050",
   "metadata": {},
   "source": [
    "<img src=\"./assets/heapsort.png\">"
   ]
  },
  {
   "cell_type": "markdown",
   "id": "d615196e",
   "metadata": {},
   "source": [
    "<h4 style=\"font-family: 'Computer Modern Serif', serif; font-weight: bold;\">Реализация</h4>"
   ]
  },
  {
   "cell_type": "code",
   "execution_count": 22,
   "id": "28951f8c",
   "metadata": {},
   "outputs": [],
   "source": [
    "def heapify(array, n, i):\n",
    "    largest = i        # Initialize largest value as root\n",
    "    left = 2*i+1       # Left child\n",
    "    right = 2*i+2      # Right child\n",
    "\n",
    "    # Check if left child of root is exists and is greater than root\n",
    "    if left < n and array[i] < array[left]:\n",
    "        largest = left\n",
    "    \n",
    "    # Check if right child of root is exists and is greater than root\n",
    "    if right < n and array[largest] < array[right]:\n",
    "        largest = right\n",
    "    \n",
    "    # Change root if needed\n",
    "    if largest != i:\n",
    "        array[i], array[largest] = array[largest], array[i]\n",
    "        heapify(array, n, largest)    # Heapify the root"
   ]
  },
  {
   "cell_type": "code",
   "execution_count": 23,
   "id": "4783b4b6",
   "metadata": {},
   "outputs": [],
   "source": [
    "def heapsort(array: List[int]) -> None:\n",
    "    n = len(array)\n",
    "    \n",
    "    # Building binary heap\n",
    "    for i in range(n//2 - 1, -1, -1):\n",
    "        heapify(array, n, i)\n",
    "    \n",
    "    # One by one extract elements\n",
    "    for i in range(n-1, 0, -1):\n",
    "        array[i], array[0] = array[0], array[i]\n",
    "        heapify(array, i, 0)"
   ]
  },
  {
   "cell_type": "markdown",
   "id": "3c258b5c",
   "metadata": {},
   "source": [
    "<h4 style=\"font-family: 'Computer Modern Serif', serif; font-weight: bold;\">Тест</h4>"
   ]
  },
  {
   "cell_type": "code",
   "execution_count": 24,
   "id": "b86febf2",
   "metadata": {},
   "outputs": [],
   "source": [
    "test_algo_inplace([9, 1, 5, 10, 3, 8, 7, 2], func=heapsort)"
   ]
  },
  {
   "cell_type": "markdown",
   "id": "467683d7",
   "metadata": {},
   "source": [
    "<h4 style=\"font-family: 'Computer Modern Serif', serif; font-weight: bold;\">График асимптотики</h4>"
   ]
  },
  {
   "cell_type": "code",
   "execution_count": 25,
   "id": "f1ddefa9",
   "metadata": {
    "scrolled": false
   },
   "outputs": [
    {
     "data": {
      "image/png": "[encoded data removed]",
      "text/plain": [
       "<Figure size 504x432 with 1 Axes>"
      ]
     },
     "metadata": {
      "needs_background": "light"
     },
     "output_type": "display_data"
    }
   ],
   "source": [
    "draw_plot(start=10, stop=10000, step=200, func=heapsort)"
   ]
  },
  {
   "cell_type": "markdown",
   "id": "2b34b173",
   "metadata": {},
   "source": [
    "<h4 style=\"font-family: 'Computer Modern Serif', serif; font-weight: bold; text-align: center;\"><a href=\"../index.html\">⟵ Back</a></h4>"
   ]
  }
 ],
 "metadata": {
  "kernelspec": {
   "display_name": "Python 3 (ipykernel)",
   "language": "python",
   "name": "python3"
  },
  "language_info": {
   "codemirror_mode": {
    "name": "ipython",
    "version": 3
   },
   "file_extension": ".py",
   "mimetype": "text/x-python",
   "name": "python",
   "nbconvert_exporter": "python",
   "pygments_lexer": "ipython3",
   "version": "3.8.10"
  }
 },
 "nbformat": 4,
 "nbformat_minor": 5
}
